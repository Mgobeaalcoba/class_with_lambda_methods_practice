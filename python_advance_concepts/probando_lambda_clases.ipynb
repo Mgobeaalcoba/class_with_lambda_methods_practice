{
 "cells": [
  {
   "cell_type": "code",
   "execution_count": 2,
   "metadata": {},
   "outputs": [],
   "source": [
    "from python_advance_concepts.metodos_lambda import Docente, Estudiante, Salario, Materia, Persona"
   ]
  },
  {
   "cell_type": "code",
   "execution_count": 5,
   "metadata": {},
   "outputs": [],
   "source": [
    "materia = Materia(nombre=\"Taller de Programación 1\")\n",
    "salario = Salario(cantidad=15000.00)"
   ]
  },
  {
   "cell_type": "code",
   "execution_count": 9,
   "metadata": {},
   "outputs": [
    {
     "name": "stdout",
     "output_type": "stream",
     "text": [
      "Nombre: Mariano Gobea Alcoba, Edad: 36, Materia: Taller de Programación 1, Salario: 15000.0\n"
     ]
    }
   ],
   "source": [
    "materia = Materia(nombre=\"Taller de Programación 1\")\n",
    "salario = Salario(cantidad=15000.00)\n",
    "docente_1 = Docente(nombre=\"Mariano Gobea Alcoba\", edad=36, materia=materia, salario=salario)\n",
    "print(docente_1)"
   ]
  },
  {
   "cell_type": "code",
   "execution_count": 10,
   "metadata": {},
   "outputs": [
    {
     "name": "stdout",
     "output_type": "stream",
     "text": [
      "Nombre: Mariano Gobea Alcoba, Edad: 36, Materia: Programación II, Salario: 15000.0\n"
     ]
    }
   ],
   "source": [
    "docente_1.set_materia(Materia(\"Programación II\"))\n",
    "print(docente_1)"
   ]
  },
  {
   "cell_type": "code",
   "execution_count": 11,
   "metadata": {},
   "outputs": [
    {
     "name": "stdout",
     "output_type": "stream",
     "text": [
      "Nombre: Nicole Antonella Fernandez, Edad: 30, Materia: Derecho Político\n"
     ]
    }
   ],
   "source": [
    "estudiante_1 = Estudiante(nombre=\"Nicole Antonella Fernandez\", edad=30, materia=Materia(\"Derecho Político\"))\n",
    "print(estudiante_1)"
   ]
  },
  {
   "cell_type": "code",
   "execution_count": 12,
   "metadata": {},
   "outputs": [
    {
     "name": "stdout",
     "output_type": "stream",
     "text": [
      "Nombre: Lisandro Raccio Fernandez, Edad: 12\n"
     ]
    }
   ],
   "source": [
    "persona_1 = Persona(nombre=\"Lisandro Raccio Fernandez\", edad=12)\n",
    "print(persona_1)"
   ]
  },
  {
   "cell_type": "code",
   "execution_count": 14,
   "metadata": {},
   "outputs": [
    {
     "name": "stdout",
     "output_type": "stream",
     "text": [
      "Help on Docente in module poetry_demo.metodos_lambda object:\n",
      "\n",
      "class Docente(Persona)\n",
      " |  Docente(nombre: str, edad: int, materia: Type[poetry_demo.metodos_lambda.Materia], salario: Type[poetry_demo.metodos_lambda.Salario])\n",
      " |  \n",
      " |  Method resolution order:\n",
      " |      Docente\n",
      " |      Persona\n",
      " |      builtins.object\n",
      " |  \n",
      " |  Methods defined here:\n",
      " |  \n",
      " |  __init__(self, nombre: str, edad: int, materia: Type[poetry_demo.metodos_lambda.Materia], salario: Type[poetry_demo.metodos_lambda.Salario])\n",
      " |      Initialize self.  See help(type(self)) for accurate signature.\n",
      " |  \n",
      " |  __str__(self)\n",
      " |      Return str(self).\n",
      " |  \n",
      " |  ----------------------------------------------------------------------\n",
      " |  Data descriptors inherited from Persona:\n",
      " |  \n",
      " |  __dict__\n",
      " |      dictionary for instance variables (if defined)\n",
      " |  \n",
      " |  __weakref__\n",
      " |      list of weak references to the object (if defined)\n",
      "\n"
     ]
    }
   ],
   "source": [
    "help(docente_1)"
   ]
  }
 ],
 "metadata": {
  "kernelspec": {
   "display_name": "poetry-demo-e-JQGhC9-py3.10",
   "language": "python",
   "name": "python3"
  },
  "language_info": {
   "codemirror_mode": {
    "name": "ipython",
    "version": 3
   },
   "file_extension": ".py",
   "mimetype": "text/x-python",
   "name": "python",
   "nbconvert_exporter": "python",
   "pygments_lexer": "ipython3",
   "version": "3.10.12"
  }
 },
 "nbformat": 4,
 "nbformat_minor": 2
}
