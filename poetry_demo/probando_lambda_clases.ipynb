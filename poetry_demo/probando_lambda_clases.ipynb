{
 "cells": [
  {
   "cell_type": "code",
   "execution_count": 2,
   "metadata": {},
   "outputs": [],
   "source": [
    "from poetry_demo.metodos_lambda import Docente, Estudiante, Salario, Materia, Persona"
   ]
  },
  {
   "cell_type": "code",
   "execution_count": 5,
   "metadata": {},
   "outputs": [],
   "source": [
    "materia = Materia(nombre=\"Taller de Programación 1\")\n",
    "salario = Salario(cantidad=15000.00)"
   ]
  },
  {
   "cell_type": "code",
   "execution_count": 4,
   "metadata": {},
   "outputs": [
    {
     "ename": "AttributeError",
     "evalue": "'str' object has no attribute 'get_nombre'",
     "output_type": "error",
     "traceback": [
      "\u001b[0;31m---------------------------------------------------------------------------\u001b[0m",
      "\u001b[0;31mAttributeError\u001b[0m                            Traceback (most recent call last)",
      "Cell \u001b[0;32mIn[4], line 2\u001b[0m\n\u001b[1;32m      1\u001b[0m docente_1 \u001b[38;5;241m=\u001b[39m Docente(nombre\u001b[38;5;241m=\u001b[39m\u001b[38;5;124m\"\u001b[39m\u001b[38;5;124mMariano Gobea Alcoba\u001b[39m\u001b[38;5;124m\"\u001b[39m, edad\u001b[38;5;241m=\u001b[39m\u001b[38;5;241m36\u001b[39m, materia\u001b[38;5;241m=\u001b[39m\u001b[38;5;124m\"\u001b[39m\u001b[38;5;124mTaller de Programación 1\u001b[39m\u001b[38;5;124m\"\u001b[39m, salario\u001b[38;5;241m=\u001b[39m\u001b[38;5;241m15000\u001b[39m)\n\u001b[0;32m----> 2\u001b[0m \u001b[38;5;28;43mprint\u001b[39;49m\u001b[43m(\u001b[49m\u001b[43mdocente_1\u001b[49m\u001b[43m)\u001b[49m\n",
      "File \u001b[0;32m/mnt/c/Users/maria/Documents/developer-windows/Python/poetry-demo/poetry_demo/metodos_lambda.py:48\u001b[0m, in \u001b[0;36mDocente.__str__\u001b[0;34m(self)\u001b[0m\n\u001b[1;32m     47\u001b[0m \u001b[38;5;28;01mdef\u001b[39;00m \u001b[38;5;21m__str__\u001b[39m(\u001b[38;5;28mself\u001b[39m):\n\u001b[0;32m---> 48\u001b[0m     \u001b[38;5;28;01mreturn\u001b[39;00m \u001b[38;5;124mf\u001b[39m\u001b[38;5;124m\"\u001b[39m\u001b[38;5;132;01m{\u001b[39;00m\u001b[38;5;28msuper\u001b[39m()\u001b[38;5;241m.\u001b[39m\u001b[38;5;21m__str__\u001b[39m()\u001b[38;5;132;01m}\u001b[39;00m\u001b[38;5;124m, Materia: \u001b[39m\u001b[38;5;132;01m{\u001b[39;00m\u001b[38;5;28;43mself\u001b[39;49m\u001b[38;5;241;43m.\u001b[39;49m\u001b[43mget_materia\u001b[49m\u001b[43m(\u001b[49m\u001b[43m)\u001b[49m\u001b[38;5;241;43m.\u001b[39;49m\u001b[43mget_nombre\u001b[49m()\u001b[38;5;132;01m}\u001b[39;00m\u001b[38;5;124m, Salario: \u001b[39m\u001b[38;5;132;01m{\u001b[39;00m\u001b[38;5;28mself\u001b[39m\u001b[38;5;241m.\u001b[39mget_salario()\u001b[38;5;241m.\u001b[39mget_cantidad()\u001b[38;5;132;01m}\u001b[39;00m\u001b[38;5;124m\"\u001b[39m\n",
      "\u001b[0;31mAttributeError\u001b[0m: 'str' object has no attribute 'get_nombre'"
     ]
    }
   ],
   "source": [
    "docente_1 = Docente(nombre=\"Mariano Gobea Alcoba\", edad=36, materia=materia, salario=salario)\n",
    "print(docente_1)"
   ]
  }
 ],
 "metadata": {
  "kernelspec": {
   "display_name": "poetry-demo-e-JQGhC9-py3.10",
   "language": "python",
   "name": "python3"
  },
  "language_info": {
   "codemirror_mode": {
    "name": "ipython",
    "version": 3
   },
   "file_extension": ".py",
   "mimetype": "text/x-python",
   "name": "python",
   "nbconvert_exporter": "python",
   "pygments_lexer": "ipython3",
   "version": "3.10.12"
  }
 },
 "nbformat": 4,
 "nbformat_minor": 2
}
